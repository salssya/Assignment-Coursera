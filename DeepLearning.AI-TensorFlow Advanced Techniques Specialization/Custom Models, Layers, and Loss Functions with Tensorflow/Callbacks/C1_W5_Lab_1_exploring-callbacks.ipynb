{
 "cells": [
  {
   "cell_type": "markdown",
   "metadata": {
    "colab_type": "text",
    "id": "view-in-github"
   },
   "source": [
    "<a href=\"https://colab.research.google.com/github/https-deeplearning-ai/tensorflow-3-public/blob/main/Course%201%20-%20Custom%20Models%2C%20Layers%20and%20Loss%20Functions/Week%205%20-%20Callbacks/C1_W5_Lab_1_exploring-callbacks.ipynb\" target=\"_parent\"><img src=\"https://colab.research.google.com/assets/colab-badge.svg\" alt=\"Open In Colab\"/></a>"
   ]
  },
  {
   "cell_type": "markdown",
   "metadata": {
    "colab_type": "text",
    "id": "0c_TYhQOUe1j"
   },
   "source": [
    "# Ungraded Lab: Introduction to Keras callbacks\n",
    "\n",
    "In Keras, `Callback` is a Python class meant to be subclassed to provide specific functionality, with a set of methods called at various stages of training (including batch/epoch start and ends), testing, and predicting. Callbacks are useful to get a view on internal states and statistics of the model during training. The methods of the callbacks can  be called at different stages of training/evaluating/inference. Keras has available [callbacks](https://keras.io/api/callbacks/) and we'll show how you can use it in the following sections. Please click the **Open in Colab** badge above to complete this exercise in Colab. This will allow you to take advantage of the free GPU runtime (for faster training) and compatibility with all the packages needed in this notebook."
   ]
  },
  {
   "cell_type": "markdown",
   "metadata": {
    "colab_type": "text",
    "id": "Uyl69EyRQx-f"
   },
   "source": [
    "## Model methods that take callbacks\n",
    "Users can supply a list of callbacks to the following `tf.keras.Model` methods:\n",
    "* [`fit()`](https://www.tensorflow.org/versions/r2.0/api_docs/python/tf/keras/Model#fit), [`fit_generator()`](https://www.tensorflow.org/versions/r2.0/api_docs/python/tf/keras/Model#fit_generator)\n",
    "Trains the model for a fixed number of epochs (iterations over a dataset, or data yielded batch-by-batch by a Python generator).\n",
    "* [`evaluate()`](https://www.tensorflow.org/versions/r2.0/api_docs/python/tf/keras/Model#evaluate), [`evaluate_generator()`](https://www.tensorflow.org/versions/r2.0/api_docs/python/tf/keras/Model#evaluate_generator)\n",
    "Evaluates the model for given data or data generator. Outputs the loss and metric values from the evaluation.\n",
    "* [`predict()`](https://www.tensorflow.org/versions/r2.0/api_docs/python/tf/keras/Model#predict), [`predict_generator()`](https://www.tensorflow.org/versions/r2.0/api_docs/python/tf/keras/Model#predict_generator)\n",
    "Generates output predictions for the input data or data generator."
   ]
  },
  {
   "cell_type": "markdown",
   "metadata": {},
   "source": [
    "## Imports"
   ]
  },
  {
   "cell_type": "code",
   "execution_count": 1,
   "metadata": {
    "colab": {},
    "colab_type": "code",
    "id": "AlT1Kh3uA9lZ"
   },
   "outputs": [
    {
     "name": "stdout",
     "output_type": "stream",
     "text": [
      "Version:  2.1.0\n"
     ]
    }
   ],
   "source": [
    "from __future__ import absolute_import, division, print_function, unicode_literals\n",
    "\n",
    "try:\n",
    "    # %tensorflow_version only exists in Colab.\n",
    "    %tensorflow_version 2.x\n",
    "except Exception:\n",
    "    pass\n",
    "\n",
    "import tensorflow as tf\n",
    "import tensorflow_datasets as tfds\n",
    "import matplotlib.pyplot as plt\n",
    "import io\n",
    "from PIL import Image\n",
    "\n",
    "from tensorflow.keras.callbacks import TensorBoard, EarlyStopping, LearningRateScheduler, ModelCheckpoint, CSVLogger, ReduceLROnPlateau\n",
    "%load_ext tensorboard\n",
    "\n",
    "import os\n",
    "import matplotlib.pylab as plt\n",
    "import numpy as np\n",
    "import math\n",
    "import datetime\n",
    "import pandas as pd\n",
    "\n",
    "print(\"Version: \", tf.__version__)\n",
    "tf.get_logger().setLevel('INFO')"
   ]
  },
  {
   "cell_type": "markdown",
   "metadata": {
    "colab_type": "text",
    "id": "HnSljqtsXKfb"
   },
   "source": [
    "# Examples of Keras callback applications\n",
    "The following section will guide you through creating simple [Callback](https://keras.io/api/callbacks/) applications."
   ]
  },
  {
   "cell_type": "code",
   "execution_count": 2,
   "metadata": {
    "colab": {},
    "colab_type": "code",
    "id": "spskRuxvCYQE"
   },
   "outputs": [],
   "source": [
    "# Download and prepare the horses or humans dataset\n",
    "\n",
    "# horses_or_humans 3.0.0 has already been downloaded for you\n",
    "path = \"./tensorflow_datasets\"\n",
    "splits, info = tfds.load('horses_or_humans', data_dir=path, as_supervised=True, with_info=True, split=['train[:80%]', 'train[80%:]', 'test'])\n",
    "\n",
    "(train_examples, validation_examples, test_examples) = splits\n",
    "\n",
    "num_examples = info.splits['train'].num_examples\n",
    "num_classes = info.features['label'].num_classes"
   ]
  },
  {
   "cell_type": "code",
   "execution_count": 3,
   "metadata": {
    "colab": {},
    "colab_type": "code",
    "id": "veIsubKTCZsN"
   },
   "outputs": [],
   "source": [
    "SIZE = 150 #@param {type:\"slider\", min:64, max:300, step:1}\n",
    "IMAGE_SIZE = (SIZE, SIZE)"
   ]
  },
  {
   "cell_type": "code",
   "execution_count": 4,
   "metadata": {
    "colab": {},
    "colab_type": "code",
    "id": "faajLlErCb1S"
   },
   "outputs": [],
   "source": [
    "def format_image(image, label):\n",
    "  image = tf.image.resize(image, IMAGE_SIZE) / 255.0\n",
    "  return  image, label"
   ]
  },
  {
   "cell_type": "code",
   "execution_count": 5,
   "metadata": {
    "colab": {},
    "colab_type": "code",
    "id": "AVXPuU12Cdka"
   },
   "outputs": [],
   "source": [
    "BATCH_SIZE = 32 #@param {type:\"integer\"}"
   ]
  },
  {
   "cell_type": "code",
   "execution_count": 6,
   "metadata": {
    "colab": {},
    "colab_type": "code",
    "id": "0lHDkFVaCe48"
   },
   "outputs": [],
   "source": [
    "train_batches = train_examples.shuffle(num_examples // 4).map(format_image).batch(BATCH_SIZE).prefetch(1)\n",
    "validation_batches = validation_examples.map(format_image).batch(BATCH_SIZE).prefetch(1)\n",
    "test_batches = test_examples.map(format_image).batch(1)"
   ]
  },
  {
   "cell_type": "code",
   "execution_count": 7,
   "metadata": {
    "colab": {},
    "colab_type": "code",
    "id": "DxsCqEIkCgUt"
   },
   "outputs": [
    {
     "data": {
      "text/plain": [
       "TensorShape([32, 150, 150, 3])"
      ]
     },
     "execution_count": 7,
     "metadata": {},
     "output_type": "execute_result"
    }
   ],
   "source": [
    "for image_batch, label_batch in train_batches.take(1):\n",
    "  pass\n",
    "\n",
    "image_batch.shape"
   ]
  },
  {
   "cell_type": "code",
   "execution_count": 8,
   "metadata": {
    "colab": {},
    "colab_type": "code",
    "id": "iDBpWvHXCh2A"
   },
   "outputs": [],
   "source": [
    "def build_model(dense_units, input_shape=IMAGE_SIZE + (3,)):\n",
    "  model = tf.keras.models.Sequential([\n",
    "      tf.keras.layers.Conv2D(16, (3, 3), activation='relu', input_shape=input_shape),\n",
    "      tf.keras.layers.MaxPooling2D(2, 2),\n",
    "      tf.keras.layers.Conv2D(32, (3, 3), activation='relu'),\n",
    "      tf.keras.layers.MaxPooling2D(2, 2),\n",
    "      tf.keras.layers.Conv2D(64, (3, 3), activation='relu'),\n",
    "      tf.keras.layers.MaxPooling2D(2, 2),\n",
    "      tf.keras.layers.Flatten(),\n",
    "      tf.keras.layers.Dense(dense_units, activation='relu'),\n",
    "      tf.keras.layers.Dense(2, activation='softmax')\n",
    "  ])\n",
    "  return model"
   ]
  },
  {
   "cell_type": "markdown",
   "metadata": {
    "colab_type": "text",
    "id": "0ZKGkjagENSw"
   },
   "source": [
    "## [TensorBoard](https://keras.io/api/callbacks/tensorboard/)\n",
    "\n",
    "Enable visualizations for TensorBoard."
   ]
  },
  {
   "cell_type": "code",
   "execution_count": 9,
   "metadata": {
    "colab": {},
    "colab_type": "code",
    "id": "CeiD2WVEHbex"
   },
   "outputs": [],
   "source": [
    "!rm -rf logs"
   ]
  },
  {
   "cell_type": "code",
   "execution_count": 12,
   "metadata": {
    "colab": {},
    "colab_type": "code",
    "id": "PpLwPLnAEOzv"
   },
   "outputs": [
    {
     "name": "stdout",
     "output_type": "stream",
     "text": [
      "Epoch 1/10\n",
      "26/26 [==============================] - 21s 825ms/step - loss: 0.6779 - accuracy: 0.5353 - val_loss: 0.6729 - val_accuracy: 0.5024\n",
      "Epoch 2/10\n",
      "26/26 [==============================] - 21s 796ms/step - loss: 0.6502 - accuracy: 0.6144 - val_loss: 0.6330 - val_accuracy: 0.8634\n",
      "Epoch 3/10\n",
      "26/26 [==============================] - 20s 785ms/step - loss: 0.6155 - accuracy: 0.7287 - val_loss: 0.5821 - val_accuracy: 0.8780\n",
      "Epoch 4/10\n",
      "26/26 [==============================] - 21s 796ms/step - loss: 0.5524 - accuracy: 0.7859 - val_loss: 0.4979 - val_accuracy: 0.8732\n",
      "Epoch 5/10\n",
      "26/26 [==============================] - 21s 801ms/step - loss: 0.5002 - accuracy: 0.7749 - val_loss: 0.4278 - val_accuracy: 0.8293\n",
      "Epoch 6/10\n",
      "26/26 [==============================] - 20s 788ms/step - loss: 0.4430 - accuracy: 0.8224 - val_loss: 0.4761 - val_accuracy: 0.7707\n",
      "Epoch 7/10\n",
      "26/26 [==============================] - 20s 781ms/step - loss: 0.3781 - accuracy: 0.8491 - val_loss: 0.2819 - val_accuracy: 0.9268\n",
      "Epoch 8/10\n",
      "26/26 [==============================] - 20s 788ms/step - loss: 0.3270 - accuracy: 0.8832 - val_loss: 0.2373 - val_accuracy: 0.9561\n",
      "Epoch 9/10\n",
      "26/26 [==============================] - 20s 781ms/step - loss: 0.2625 - accuracy: 0.9124 - val_loss: 0.7128 - val_accuracy: 0.6000\n",
      "Epoch 10/10\n",
      "26/26 [==============================] - 20s 777ms/step - loss: 0.2300 - accuracy: 0.9355 - val_loss: 0.1632 - val_accuracy: 0.9561\n"
     ]
    },
    {
     "data": {
      "text/plain": [
       "<tensorflow.python.keras.callbacks.History at 0x706173f88250>"
      ]
     },
     "execution_count": 12,
     "metadata": {},
     "output_type": "execute_result"
    }
   ],
   "source": [
    "model = build_model(dense_units=256)\n",
    "model.compile(\n",
    "    optimizer='sgd',\n",
    "    loss='sparse_categorical_crossentropy', \n",
    "    metrics=['accuracy'])\n",
    "  \n",
    "logdir = os.path.join(\"logs\", datetime.datetime.now().strftime(\"%Y%m%d-%H%M%S\"))\n",
    "tensorboard_callback = tf.keras.callbacks.TensorBoard(logdir)\n",
    "\n",
    "model.fit(train_batches, \n",
    "          epochs=10, \n",
    "          validation_data=validation_batches, \n",
    "          callbacks=[tensorboard_callback])"
   ]
  },
  {
   "cell_type": "code",
   "execution_count": 13,
   "metadata": {
    "colab": {},
    "colab_type": "code",
    "id": "iJunWOjZE0ir"
   },
   "outputs": [
    {
     "data": {
      "text/plain": [
       "Reusing TensorBoard on port 6006 (pid 1328), started 0:05:52 ago. (Use '!kill 1328' to kill it.)"
      ]
     },
     "metadata": {},
     "output_type": "display_data"
    },
    {
     "data": {
      "text/html": [
       "\n",
       "      <iframe id=\"tensorboard-frame-73373c43dcec3673\" width=\"100%\" height=\"800\" frameborder=\"0\">\n",
       "      </iframe>\n",
       "      <script>\n",
       "        (function() {\n",
       "          const frame = document.getElementById(\"tensorboard-frame-73373c43dcec3673\");\n",
       "          const url = new URL(\"/\", window.location);\n",
       "          url.port = 6006;\n",
       "          frame.src = url;\n",
       "        })();\n",
       "      </script>\n",
       "  "
      ],
      "text/plain": [
       "<IPython.core.display.HTML object>"
      ]
     },
     "metadata": {},
     "output_type": "display_data"
    }
   ],
   "source": [
    "%tensorboard --logdir logs"
   ]
  },
  {
   "cell_type": "markdown",
   "metadata": {
    "colab_type": "text",
    "id": "wv9H4Pc2Mfl7"
   },
   "source": [
    "## [Model Checkpoint](https://keras.io/api/callbacks/model_checkpoint/)\n",
    "\n",
    "Callback to save the Keras model or model weights at some frequency."
   ]
  },
  {
   "cell_type": "code",
   "execution_count": 14,
   "metadata": {
    "colab": {},
    "colab_type": "code",
    "id": "PYV4FJ8iMmDq"
   },
   "outputs": [
    {
     "name": "stdout",
     "output_type": "stream",
     "text": [
      "Epoch 1/5\n",
      "\n",
      "Epoch 00001: saving model to weights.01-0.66.h5\n",
      "26/26 - 22s - loss: 0.6813 - accuracy: 0.5499 - val_loss: 0.6638 - val_accuracy: 0.6098\n",
      "Epoch 2/5\n",
      "\n",
      "Epoch 00002: saving model to weights.02-0.70.h5\n",
      "26/26 - 21s - loss: 0.6364 - accuracy: 0.6727 - val_loss: 0.6961 - val_accuracy: 0.4878\n",
      "Epoch 3/5\n",
      "\n",
      "Epoch 00003: saving model to weights.03-0.56.h5\n",
      "26/26 - 21s - loss: 0.5957 - accuracy: 0.7019 - val_loss: 0.5591 - val_accuracy: 0.7463\n",
      "Epoch 4/5\n",
      "\n",
      "Epoch 00004: saving model to weights.04-0.52.h5\n",
      "26/26 - 21s - loss: 0.5375 - accuracy: 0.7482 - val_loss: 0.5205 - val_accuracy: 0.7268\n",
      "Epoch 5/5\n",
      "\n",
      "Epoch 00005: saving model to weights.05-0.48.h5\n",
      "26/26 - 20s - loss: 0.4911 - accuracy: 0.7762 - val_loss: 0.4785 - val_accuracy: 0.8000\n"
     ]
    },
    {
     "data": {
      "text/plain": [
       "<tensorflow.python.keras.callbacks.History at 0x706173e02dd0>"
      ]
     },
     "execution_count": 14,
     "metadata": {},
     "output_type": "execute_result"
    }
   ],
   "source": [
    "model = build_model(dense_units=256)\n",
    "model.compile(\n",
    "    optimizer='sgd',\n",
    "    loss='sparse_categorical_crossentropy', \n",
    "    metrics=['accuracy'])\n",
    "  \n",
    "model.fit(train_batches, \n",
    "          epochs=5, \n",
    "          validation_data=validation_batches, \n",
    "          verbose=2,\n",
    "          callbacks=[ModelCheckpoint('weights.{epoch:02d}-{val_loss:.2f}.h5', verbose=1),\n",
    "          ])"
   ]
  },
  {
   "cell_type": "code",
   "execution_count": null,
   "metadata": {
    "colab": {},
    "colab_type": "code",
    "id": "oGvjQ8IlMmK6"
   },
   "outputs": [],
   "source": [
    "model = build_model(dense_units=256)\n",
    "model.compile(\n",
    "    optimizer='sgd',\n",
    "    loss='sparse_categorical_crossentropy', \n",
    "    metrics=['accuracy'])\n",
    "  \n",
    "model.fit(train_batches, \n",
    "          epochs=1, \n",
    "          validation_data=validation_batches, \n",
    "          verbose=2,\n",
    "          callbacks=[ModelCheckpoint('saved_model', verbose=1)\n",
    "          ])"
   ]
  },
  {
   "cell_type": "code",
   "execution_count": null,
   "metadata": {
    "colab": {},
    "colab_type": "code",
    "id": "Y1ConwoB0EjD"
   },
   "outputs": [],
   "source": [
    "model = build_model(dense_units=256)\n",
    "model.compile(\n",
    "    optimizer='sgd',\n",
    "    loss='sparse_categorical_crossentropy', \n",
    "    metrics=['accuracy'])\n",
    "  \n",
    "model.fit(train_batches, \n",
    "          epochs=2, \n",
    "          validation_data=validation_batches, \n",
    "          verbose=2,\n",
    "          callbacks=[ModelCheckpoint('model.h5', verbose=1)\n",
    "          ])"
   ]
  },
  {
   "cell_type": "markdown",
   "metadata": {
    "colab_type": "text",
    "id": "kptNF0--Lznv"
   },
   "source": [
    "## [Early stopping](https://keras.io/api/callbacks/early_stopping/)\n",
    "\n",
    "Stop training when a monitored metric has stopped improving."
   ]
  },
  {
   "cell_type": "code",
   "execution_count": 15,
   "metadata": {
    "colab": {},
    "colab_type": "code",
    "id": "KJOJTJYdCkdY"
   },
   "outputs": [
    {
     "name": "stdout",
     "output_type": "stream",
     "text": [
      "Epoch 1/50\n",
      "26/26 - 21s - loss: 0.6698 - accuracy: 0.6302 - val_loss: 0.7158 - val_accuracy: 0.4341\n",
      "Epoch 2/50\n",
      "26/26 - 20s - loss: 0.6483 - accuracy: 0.6472 - val_loss: 0.6562 - val_accuracy: 0.5268\n",
      "Epoch 3/50\n",
      "26/26 - 21s - loss: 0.6179 - accuracy: 0.7080 - val_loss: 0.6013 - val_accuracy: 0.7463\n",
      "Epoch 4/50\n",
      "26/26 - 20s - loss: 0.5609 - accuracy: 0.7591 - val_loss: 0.5194 - val_accuracy: 0.8439\n",
      "Epoch 5/50\n",
      "26/26 - 23s - loss: 0.5162 - accuracy: 0.7859 - val_loss: 0.4504 - val_accuracy: 0.8780\n",
      "Epoch 6/50\n",
      "26/26 - 22s - loss: 0.4743 - accuracy: 0.7956 - val_loss: 0.4124 - val_accuracy: 0.8976\n",
      "Epoch 7/50\n",
      "26/26 - 22s - loss: 0.3718 - accuracy: 0.8698 - val_loss: 0.3188 - val_accuracy: 0.8976\n",
      "Epoch 8/50\n",
      "26/26 - 22s - loss: 0.3377 - accuracy: 0.8856 - val_loss: 0.2444 - val_accuracy: 0.9415\n",
      "Epoch 9/50\n",
      "26/26 - 20s - loss: 0.2462 - accuracy: 0.9258 - val_loss: 0.2386 - val_accuracy: 0.9220\n",
      "Epoch 10/50\n",
      "26/26 - 20s - loss: 0.2201 - accuracy: 0.9282 - val_loss: 0.1596 - val_accuracy: 0.9610\n",
      "Epoch 11/50\n",
      "26/26 - 20s - loss: 0.1681 - accuracy: 0.9538 - val_loss: 0.1478 - val_accuracy: 0.9610\n",
      "Epoch 12/50\n",
      "26/26 - 20s - loss: 0.1379 - accuracy: 0.9635 - val_loss: 0.1142 - val_accuracy: 0.9707\n",
      "Epoch 13/50\n",
      "26/26 - 21s - loss: 0.1080 - accuracy: 0.9781 - val_loss: 0.0992 - val_accuracy: 0.9805\n",
      "Epoch 14/50\n",
      "26/26 - 21s - loss: 0.1040 - accuracy: 0.9696 - val_loss: 0.1061 - val_accuracy: 0.9659\n",
      "Epoch 15/50\n",
      "26/26 - 22s - loss: 0.0890 - accuracy: 0.9830 - val_loss: 0.0712 - val_accuracy: 0.9805\n",
      "Epoch 16/50\n",
      "Restoring model weights from the end of the best epoch.\n",
      "26/26 - 23s - loss: 0.0824 - accuracy: 0.9818 - val_loss: 0.0730 - val_accuracy: 0.9805\n",
      "Epoch 00016: early stopping\n"
     ]
    },
    {
     "data": {
      "text/plain": [
       "<tensorflow.python.keras.callbacks.History at 0x706173cf08d0>"
      ]
     },
     "execution_count": 15,
     "metadata": {},
     "output_type": "execute_result"
    }
   ],
   "source": [
    "model = build_model(dense_units=256)\n",
    "model.compile(\n",
    "    optimizer='sgd',\n",
    "    loss='sparse_categorical_crossentropy', \n",
    "    metrics=['accuracy'])\n",
    "  \n",
    "model.fit(train_batches, \n",
    "          epochs=50, \n",
    "          validation_data=validation_batches, \n",
    "          verbose=2,\n",
    "          callbacks=[EarlyStopping(\n",
    "              patience=3,\n",
    "              min_delta=0.05,\n",
    "              baseline=0.8,\n",
    "              mode='min',\n",
    "              monitor='val_loss',\n",
    "              restore_best_weights=True,\n",
    "              verbose=1)\n",
    "          ])"
   ]
  },
  {
   "cell_type": "markdown",
   "metadata": {
    "colab_type": "text",
    "id": "8mDzWUD4Pqq5"
   },
   "source": [
    "## [CSV Logger](https://keras.io/api/callbacks/csv_logger/)\n",
    "\n",
    "Callback that streams epoch results to a CSV file."
   ]
  },
  {
   "cell_type": "code",
   "execution_count": 16,
   "metadata": {
    "colab": {},
    "colab_type": "code",
    "id": "cffnMpmGPtMh"
   },
   "outputs": [
    {
     "name": "stdout",
     "output_type": "stream",
     "text": [
      "Epoch 1/5\n",
      "26/26 [==============================] - 22s 859ms/step - loss: 0.6568 - accuracy: 0.5985 - val_loss: 0.6436 - val_accuracy: 0.6293\n",
      "Epoch 2/5\n",
      "26/26 [==============================] - 21s 794ms/step - loss: 0.6076 - accuracy: 0.6886 - val_loss: 0.7855 - val_accuracy: 0.4390\n",
      "Epoch 3/5\n",
      "26/26 [==============================] - 21s 804ms/step - loss: 0.5482 - accuracy: 0.7445 - val_loss: 0.6399 - val_accuracy: 0.5463\n",
      "Epoch 4/5\n",
      "26/26 [==============================] - 20s 780ms/step - loss: 0.4767 - accuracy: 0.7883 - val_loss: 0.4215 - val_accuracy: 0.8878\n",
      "Epoch 5/5\n",
      "26/26 [==============================] - 21s 792ms/step - loss: 0.3957 - accuracy: 0.8625 - val_loss: 0.3922 - val_accuracy: 0.8683\n"
     ]
    },
    {
     "data": {
      "text/plain": [
       "<tensorflow.python.keras.callbacks.History at 0x706173b6d390>"
      ]
     },
     "execution_count": 16,
     "metadata": {},
     "output_type": "execute_result"
    }
   ],
   "source": [
    "model = build_model(dense_units=256)\n",
    "model.compile(\n",
    "    optimizer='sgd',\n",
    "    loss='sparse_categorical_crossentropy', \n",
    "    metrics=['accuracy'])\n",
    "  \n",
    "csv_file = 'training.csv'\n",
    "\n",
    "model.fit(train_batches, \n",
    "          epochs=5, \n",
    "          validation_data=validation_batches, \n",
    "          callbacks=[CSVLogger(csv_file)\n",
    "          ])"
   ]
  },
  {
   "cell_type": "code",
   "execution_count": 17,
   "metadata": {
    "colab": {},
    "colab_type": "code",
    "id": "B9tkYi03QV7R"
   },
   "outputs": [
    {
     "data": {
      "text/html": [
       "<div>\n",
       "<style scoped>\n",
       "    .dataframe tbody tr th:only-of-type {\n",
       "        vertical-align: middle;\n",
       "    }\n",
       "\n",
       "    .dataframe tbody tr th {\n",
       "        vertical-align: top;\n",
       "    }\n",
       "\n",
       "    .dataframe thead th {\n",
       "        text-align: right;\n",
       "    }\n",
       "</style>\n",
       "<table border=\"1\" class=\"dataframe\">\n",
       "  <thead>\n",
       "    <tr style=\"text-align: right;\">\n",
       "      <th></th>\n",
       "      <th>epoch</th>\n",
       "      <th>accuracy</th>\n",
       "      <th>loss</th>\n",
       "      <th>val_accuracy</th>\n",
       "      <th>val_loss</th>\n",
       "    </tr>\n",
       "  </thead>\n",
       "  <tbody>\n",
       "    <tr>\n",
       "      <th>0</th>\n",
       "      <td>0</td>\n",
       "      <td>0.598540</td>\n",
       "      <td>0.657320</td>\n",
       "      <td>0.629268</td>\n",
       "      <td>0.643635</td>\n",
       "    </tr>\n",
       "    <tr>\n",
       "      <th>1</th>\n",
       "      <td>1</td>\n",
       "      <td>0.688565</td>\n",
       "      <td>0.609258</td>\n",
       "      <td>0.439024</td>\n",
       "      <td>0.785497</td>\n",
       "    </tr>\n",
       "    <tr>\n",
       "      <th>2</th>\n",
       "      <td>2</td>\n",
       "      <td>0.744526</td>\n",
       "      <td>0.547584</td>\n",
       "      <td>0.546342</td>\n",
       "      <td>0.639940</td>\n",
       "    </tr>\n",
       "    <tr>\n",
       "      <th>3</th>\n",
       "      <td>3</td>\n",
       "      <td>0.788321</td>\n",
       "      <td>0.476524</td>\n",
       "      <td>0.887805</td>\n",
       "      <td>0.421487</td>\n",
       "    </tr>\n",
       "    <tr>\n",
       "      <th>4</th>\n",
       "      <td>4</td>\n",
       "      <td>0.862530</td>\n",
       "      <td>0.396357</td>\n",
       "      <td>0.868293</td>\n",
       "      <td>0.392223</td>\n",
       "    </tr>\n",
       "  </tbody>\n",
       "</table>\n",
       "</div>"
      ],
      "text/plain": [
       "   epoch  accuracy      loss  val_accuracy  val_loss\n",
       "0      0  0.598540  0.657320      0.629268  0.643635\n",
       "1      1  0.688565  0.609258      0.439024  0.785497\n",
       "2      2  0.744526  0.547584      0.546342  0.639940\n",
       "3      3  0.788321  0.476524      0.887805  0.421487\n",
       "4      4  0.862530  0.396357      0.868293  0.392223"
      ]
     },
     "execution_count": 17,
     "metadata": {},
     "output_type": "execute_result"
    }
   ],
   "source": [
    "pd.read_csv(csv_file).head()"
   ]
  },
  {
   "cell_type": "markdown",
   "metadata": {
    "colab_type": "text",
    "id": "Dt9C2Y9fRBKN"
   },
   "source": [
    "## [Learning Rate Scheduler](https://keras.io/api/callbacks/learning_rate_scheduler/)\n",
    "\n",
    "Updates the learning rate during training."
   ]
  },
  {
   "cell_type": "code",
   "execution_count": 18,
   "metadata": {
    "colab": {},
    "colab_type": "code",
    "id": "aJi-xY2VRC03"
   },
   "outputs": [
    {
     "name": "stdout",
     "output_type": "stream",
     "text": [
      "\n",
      "Epoch 00001: LearningRateScheduler reducing learning rate to 0.005.\n",
      "Epoch 1/5\n",
      "26/26 [==============================] - 22s 835ms/step - loss: 0.6682 - accuracy: 0.5949 - val_loss: 0.7043 - val_accuracy: 0.4780\n",
      "\n",
      "Epoch 00002: LearningRateScheduler reducing learning rate to 0.0025.\n",
      "Epoch 2/5\n",
      "26/26 [==============================] - 20s 787ms/step - loss: 0.6343 - accuracy: 0.6691 - val_loss: 0.6296 - val_accuracy: 0.7659\n",
      "\n",
      "Epoch 00003: LearningRateScheduler reducing learning rate to 0.00125.\n",
      "Epoch 3/5\n",
      "26/26 [==============================] - 20s 777ms/step - loss: 0.6193 - accuracy: 0.7324 - val_loss: 0.6238 - val_accuracy: 0.7707\n",
      "\n",
      "Epoch 00004: LearningRateScheduler reducing learning rate to 0.000625.\n",
      "Epoch 4/5\n",
      "26/26 [==============================] - 20s 783ms/step - loss: 0.6104 - accuracy: 0.7433 - val_loss: 0.6245 - val_accuracy: 0.6927\n",
      "\n",
      "Epoch 00005: LearningRateScheduler reducing learning rate to 0.0003125.\n",
      "Epoch 5/5\n",
      "26/26 [==============================] - 20s 782ms/step - loss: 0.6056 - accuracy: 0.7141 - val_loss: 0.6194 - val_accuracy: 0.7512\n"
     ]
    },
    {
     "data": {
      "text/plain": [
       "<tensorflow.python.keras.callbacks.History at 0x7061739acd10>"
      ]
     },
     "execution_count": 18,
     "metadata": {},
     "output_type": "execute_result"
    }
   ],
   "source": [
    "model = build_model(dense_units=256)\n",
    "model.compile(\n",
    "    optimizer='sgd',\n",
    "    loss='sparse_categorical_crossentropy', \n",
    "    metrics=['accuracy'])\n",
    "  \n",
    "def step_decay(epoch):\n",
    "\tinitial_lr = 0.01\n",
    "\tdrop = 0.5\n",
    "\tepochs_drop = 1\n",
    "\tlr = initial_lr * math.pow(drop, math.floor((1+epoch)/epochs_drop))\n",
    "\treturn lr\n",
    "\n",
    "model.fit(train_batches, \n",
    "          epochs=5, \n",
    "          validation_data=validation_batches, \n",
    "          callbacks=[LearningRateScheduler(step_decay, verbose=1),\n",
    "                    TensorBoard(log_dir='./log_dir')])"
   ]
  },
  {
   "cell_type": "code",
   "execution_count": 19,
   "metadata": {
    "colab": {},
    "colab_type": "code",
    "id": "M2S4n8nrbV91"
   },
   "outputs": [
    {
     "data": {
      "text/html": [
       "\n",
       "      <iframe id=\"tensorboard-frame-b26978be99b531a6\" width=\"100%\" height=\"800\" frameborder=\"0\">\n",
       "      </iframe>\n",
       "      <script>\n",
       "        (function() {\n",
       "          const frame = document.getElementById(\"tensorboard-frame-b26978be99b531a6\");\n",
       "          const url = new URL(\"/\", window.location);\n",
       "          url.port = 6007;\n",
       "          frame.src = url;\n",
       "        })();\n",
       "      </script>\n",
       "  "
      ],
      "text/plain": [
       "<IPython.core.display.HTML object>"
      ]
     },
     "metadata": {},
     "output_type": "display_data"
    }
   ],
   "source": [
    "%tensorboard --logdir log_dir"
   ]
  },
  {
   "cell_type": "markdown",
   "metadata": {
    "colab_type": "text",
    "id": "y0wcuQyJE_UK"
   },
   "source": [
    "## [ReduceLROnPlateau](https://keras.io/api/callbacks/reduce_lr_on_plateau/)\n",
    "\n",
    "Reduce learning rate when a metric has stopped improving."
   ]
  },
  {
   "cell_type": "code",
   "execution_count": 20,
   "metadata": {
    "colab": {},
    "colab_type": "code",
    "id": "4naxZ-eCFB27"
   },
   "outputs": [
    {
     "name": "stdout",
     "output_type": "stream",
     "text": [
      "Epoch 1/50\n",
      "26/26 [==============================] - 22s 835ms/step - loss: 0.6603 - accuracy: 0.6168 - val_loss: 0.6194 - val_accuracy: 0.7317\n",
      "Epoch 2/50\n",
      "26/26 [==============================] - 21s 795ms/step - loss: 0.5921 - accuracy: 0.7141 - val_loss: 0.5513 - val_accuracy: 0.7268\n",
      "Epoch 3/50\n",
      "26/26 [==============================] - 20s 781ms/step - loss: 0.5372 - accuracy: 0.7457 - val_loss: 0.4883 - val_accuracy: 0.7561\n",
      "Epoch 4/50\n",
      "26/26 [==============================] - 21s 804ms/step - loss: 0.4763 - accuracy: 0.7895 - val_loss: 0.4404 - val_accuracy: 0.7902\n",
      "Epoch 5/50\n",
      "26/26 [==============================] - 20s 784ms/step - loss: 0.4475 - accuracy: 0.8005 - val_loss: 0.3978 - val_accuracy: 0.8195\n",
      "Epoch 6/50\n",
      "25/26 [===========================>..] - ETA: 0s - loss: 0.4044 - accuracy: 0.8338\n",
      "Epoch 00006: ReduceLROnPlateau reducing learning rate to 0.0019999999552965165.\n",
      "26/26 [==============================] - 20s 777ms/step - loss: 0.4080 - accuracy: 0.8309 - val_loss: 0.4784 - val_accuracy: 0.7805\n",
      "Epoch 7/50\n",
      "26/26 [==============================] - 21s 793ms/step - loss: 0.3485 - accuracy: 0.8491 - val_loss: 0.3267 - val_accuracy: 0.8878\n",
      "Epoch 8/50\n",
      "26/26 [==============================] - 20s 780ms/step - loss: 0.3203 - accuracy: 0.8747 - val_loss: 0.3244 - val_accuracy: 0.8976\n",
      "Epoch 9/50\n",
      "26/26 [==============================] - 20s 784ms/step - loss: 0.3084 - accuracy: 0.8820 - val_loss: 0.3078 - val_accuracy: 0.9024\n",
      "Epoch 10/50\n",
      "25/26 [===========================>..] - ETA: 0s - loss: 0.2964 - accuracy: 0.8938\n",
      "Epoch 00010: ReduceLROnPlateau reducing learning rate to 0.001.\n",
      "26/26 [==============================] - 20s 782ms/step - loss: 0.2982 - accuracy: 0.8929 - val_loss: 0.3177 - val_accuracy: 0.8927\n",
      "Epoch 11/50\n",
      "26/26 [==============================] - 20s 777ms/step - loss: 0.2876 - accuracy: 0.9100 - val_loss: 0.2773 - val_accuracy: 0.9171\n",
      "Epoch 12/50\n",
      "25/26 [===========================>..] - ETA: 0s - loss: 0.2812 - accuracy: 0.9125\n",
      "Epoch 00012: ReduceLROnPlateau reducing learning rate to 0.001.\n",
      "26/26 [==============================] - 21s 792ms/step - loss: 0.2794 - accuracy: 0.9136 - val_loss: 0.2821 - val_accuracy: 0.9122\n",
      "Epoch 13/50\n",
      "26/26 [==============================] - 20s 785ms/step - loss: 0.2748 - accuracy: 0.9148 - val_loss: 0.2650 - val_accuracy: 0.9268\n",
      "Epoch 14/50\n",
      "26/26 [==============================] - 20s 785ms/step - loss: 0.2699 - accuracy: 0.9221 - val_loss: 0.2603 - val_accuracy: 0.9268\n",
      "Epoch 15/50\n",
      "25/26 [===========================>..] - ETA: 0s - loss: 0.2619 - accuracy: 0.9200\n",
      "Epoch 00015: ReduceLROnPlateau reducing learning rate to 0.001.\n",
      "26/26 [==============================] - 20s 781ms/step - loss: 0.2627 - accuracy: 0.9209 - val_loss: 0.2675 - val_accuracy: 0.9122\n",
      "Epoch 16/50\n",
      "26/26 [==============================] - 20s 784ms/step - loss: 0.2566 - accuracy: 0.9246 - val_loss: 0.2429 - val_accuracy: 0.9415\n",
      "Epoch 17/50\n",
      "26/26 [==============================] - 21s 804ms/step - loss: 0.2519 - accuracy: 0.9282 - val_loss: 0.2421 - val_accuracy: 0.9366\n",
      "Epoch 18/50\n",
      "26/26 [==============================] - 20s 780ms/step - loss: 0.2468 - accuracy: 0.9319 - val_loss: 0.2334 - val_accuracy: 0.9415\n",
      "Epoch 19/50\n",
      "26/26 [==============================] - 20s 785ms/step - loss: 0.2419 - accuracy: 0.9307 - val_loss: 0.2261 - val_accuracy: 0.9415\n",
      "Epoch 20/50\n",
      "25/26 [===========================>..] - ETA: 0s - loss: 0.2325 - accuracy: 0.9350\n",
      "Epoch 00020: ReduceLROnPlateau reducing learning rate to 0.001.\n",
      "26/26 [==============================] - 20s 781ms/step - loss: 0.2368 - accuracy: 0.9343 - val_loss: 0.2315 - val_accuracy: 0.9366\n",
      "Epoch 21/50\n",
      "26/26 [==============================] - 20s 780ms/step - loss: 0.2324 - accuracy: 0.9367 - val_loss: 0.2165 - val_accuracy: 0.9415\n",
      "Epoch 22/50\n",
      "25/26 [===========================>..] - ETA: 0s - loss: 0.2210 - accuracy: 0.9463\n",
      "Epoch 00022: ReduceLROnPlateau reducing learning rate to 0.001.\n",
      "26/26 [==============================] - 20s 785ms/step - loss: 0.2245 - accuracy: 0.9440 - val_loss: 0.2217 - val_accuracy: 0.9366\n",
      "Epoch 23/50\n",
      "26/26 [==============================] - 20s 781ms/step - loss: 0.2176 - accuracy: 0.9477 - val_loss: 0.2108 - val_accuracy: 0.9415\n",
      "Epoch 24/50\n",
      "26/26 [==============================] - 20s 788ms/step - loss: 0.2127 - accuracy: 0.9513 - val_loss: 0.2059 - val_accuracy: 0.9415\n",
      "Epoch 25/50\n",
      "26/26 [==============================] - 21s 793ms/step - loss: 0.2081 - accuracy: 0.9465 - val_loss: 0.1966 - val_accuracy: 0.9463\n",
      "Epoch 26/50\n",
      "26/26 [==============================] - 20s 780ms/step - loss: 0.2028 - accuracy: 0.9562 - val_loss: 0.1924 - val_accuracy: 0.9463\n",
      "Epoch 27/50\n",
      "26/26 [==============================] - 20s 777ms/step - loss: 0.2009 - accuracy: 0.9513 - val_loss: 0.1893 - val_accuracy: 0.9463\n",
      "Epoch 28/50\n",
      "26/26 [==============================] - 20s 781ms/step - loss: 0.1935 - accuracy: 0.9513 - val_loss: 0.1783 - val_accuracy: 0.9610\n",
      "Epoch 29/50\n",
      "26/26 [==============================] - 20s 769ms/step - loss: 0.1914 - accuracy: 0.9538 - val_loss: 0.1761 - val_accuracy: 0.9610\n",
      "Epoch 30/50\n",
      "25/26 [===========================>..] - ETA: 0s - loss: 0.1813 - accuracy: 0.9613\n",
      "Epoch 00030: ReduceLROnPlateau reducing learning rate to 0.001.\n",
      "26/26 [==============================] - 20s 781ms/step - loss: 0.1841 - accuracy: 0.9611 - val_loss: 0.1918 - val_accuracy: 0.9415\n",
      "Epoch 31/50\n",
      "26/26 [==============================] - 20s 787ms/step - loss: 0.1799 - accuracy: 0.9623 - val_loss: 0.1643 - val_accuracy: 0.9610\n",
      "Epoch 32/50\n",
      "25/26 [===========================>..] - ETA: 0s - loss: 0.1750 - accuracy: 0.9575\n",
      "Epoch 00032: ReduceLROnPlateau reducing learning rate to 0.001.\n",
      "26/26 [==============================] - 20s 782ms/step - loss: 0.1741 - accuracy: 0.9586 - val_loss: 0.1661 - val_accuracy: 0.9610\n",
      "Epoch 33/50\n",
      "25/26 [===========================>..] - ETA: 0s - loss: 0.1672 - accuracy: 0.9675\n",
      "Epoch 00033: ReduceLROnPlateau reducing learning rate to 0.001.\n",
      "26/26 [==============================] - 21s 792ms/step - loss: 0.1708 - accuracy: 0.9659 - val_loss: 0.1658 - val_accuracy: 0.9610\n",
      "Epoch 34/50\n",
      "25/26 [===========================>..] - ETA: 0s - loss: 0.1678 - accuracy: 0.9663\n",
      "Epoch 00034: ReduceLROnPlateau reducing learning rate to 0.001.\n",
      "26/26 [==============================] - 20s 781ms/step - loss: 0.1657 - accuracy: 0.9672 - val_loss: 0.1665 - val_accuracy: 0.9610\n",
      "Epoch 35/50\n",
      "26/26 [==============================] - 20s 781ms/step - loss: 0.1615 - accuracy: 0.9672 - val_loss: 0.1497 - val_accuracy: 0.9659\n",
      "Epoch 36/50\n",
      "25/26 [===========================>..] - ETA: 0s - loss: 0.1580 - accuracy: 0.9762\n",
      "Epoch 00036: ReduceLROnPlateau reducing learning rate to 0.001.\n",
      "26/26 [==============================] - 20s 788ms/step - loss: 0.1583 - accuracy: 0.9757 - val_loss: 0.1541 - val_accuracy: 0.9610\n",
      "Epoch 37/50\n",
      "26/26 [==============================] - 20s 785ms/step - loss: 0.1551 - accuracy: 0.9745 - val_loss: 0.1430 - val_accuracy: 0.9659\n",
      "Epoch 38/50\n",
      "25/26 [===========================>..] - ETA: 0s - loss: 0.1507 - accuracy: 0.9750\n",
      "Epoch 00038: ReduceLROnPlateau reducing learning rate to 0.001.\n",
      "26/26 [==============================] - 20s 780ms/step - loss: 0.1502 - accuracy: 0.9757 - val_loss: 0.1593 - val_accuracy: 0.9610\n",
      "Epoch 39/50\n",
      "25/26 [===========================>..] - ETA: 0s - loss: 0.1480 - accuracy: 0.9700\n",
      "Epoch 00039: ReduceLROnPlateau reducing learning rate to 0.001.\n",
      "26/26 [==============================] - 21s 793ms/step - loss: 0.1465 - accuracy: 0.9708 - val_loss: 0.1436 - val_accuracy: 0.9610\n",
      "Epoch 40/50\n",
      "26/26 [==============================] - 20s 784ms/step - loss: 0.1424 - accuracy: 0.9732 - val_loss: 0.1413 - val_accuracy: 0.9610\n",
      "Epoch 41/50\n",
      "25/26 [===========================>..] - ETA: 0s - loss: 0.1405 - accuracy: 0.9762\n",
      "Epoch 00041: ReduceLROnPlateau reducing learning rate to 0.001.\n",
      "26/26 [==============================] - 21s 789ms/step - loss: 0.1377 - accuracy: 0.9769 - val_loss: 0.1459 - val_accuracy: 0.9610\n",
      "Epoch 42/50\n",
      "26/26 [==============================] - 21s 789ms/step - loss: 0.1355 - accuracy: 0.9781 - val_loss: 0.1404 - val_accuracy: 0.9610\n",
      "Epoch 43/50\n",
      "26/26 [==============================] - 20s 777ms/step - loss: 0.1325 - accuracy: 0.9769 - val_loss: 0.1312 - val_accuracy: 0.9610\n",
      "Epoch 44/50\n",
      "25/26 [===========================>..] - ETA: 0s - loss: 0.1296 - accuracy: 0.9787\n",
      "Epoch 00044: ReduceLROnPlateau reducing learning rate to 0.001.\n",
      "26/26 [==============================] - 20s 777ms/step - loss: 0.1292 - accuracy: 0.9781 - val_loss: 0.1364 - val_accuracy: 0.9610\n",
      "Epoch 45/50\n",
      "26/26 [==============================] - 20s 782ms/step - loss: 0.1258 - accuracy: 0.9781 - val_loss: 0.1222 - val_accuracy: 0.9659\n",
      "Epoch 46/50\n",
      "26/26 [==============================] - 20s 780ms/step - loss: 0.1259 - accuracy: 0.9805 - val_loss: 0.1190 - val_accuracy: 0.9659\n",
      "Epoch 47/50\n",
      "26/26 [==============================] - 20s 773ms/step - loss: 0.1202 - accuracy: 0.9805 - val_loss: 0.1165 - val_accuracy: 0.9659\n",
      "Epoch 48/50\n",
      "25/26 [===========================>..] - ETA: 0s - loss: 0.1186 - accuracy: 0.9812\n",
      "Epoch 00048: ReduceLROnPlateau reducing learning rate to 0.001.\n",
      "26/26 [==============================] - 20s 785ms/step - loss: 0.1172 - accuracy: 0.9818 - val_loss: 0.1269 - val_accuracy: 0.9610\n",
      "Epoch 49/50\n",
      "26/26 [==============================] - 20s 780ms/step - loss: 0.1162 - accuracy: 0.9818 - val_loss: 0.1141 - val_accuracy: 0.9659\n",
      "Epoch 50/50\n",
      "25/26 [===========================>..] - ETA: 0s - loss: 0.1131 - accuracy: 0.9825\n",
      "Epoch 00050: ReduceLROnPlateau reducing learning rate to 0.001.\n",
      "26/26 [==============================] - 20s 777ms/step - loss: 0.1118 - accuracy: 0.9830 - val_loss: 0.1214 - val_accuracy: 0.9610\n"
     ]
    },
    {
     "data": {
      "text/plain": [
       "<tensorflow.python.keras.callbacks.History at 0x7061738283d0>"
      ]
     },
     "execution_count": 20,
     "metadata": {},
     "output_type": "execute_result"
    }
   ],
   "source": [
    "model = build_model(dense_units=256)\n",
    "model.compile(\n",
    "    optimizer='sgd',\n",
    "    loss='sparse_categorical_crossentropy', \n",
    "    metrics=['accuracy'])\n",
    "  \n",
    "model.fit(train_batches, \n",
    "          epochs=50, \n",
    "          validation_data=validation_batches, \n",
    "          callbacks=[ReduceLROnPlateau(monitor='val_loss', \n",
    "                                       factor=0.2, verbose=1,\n",
    "                                       patience=1, min_lr=0.001),\n",
    "                     TensorBoard(log_dir='./log_dir')])"
   ]
  },
  {
   "cell_type": "code",
   "execution_count": 21,
   "metadata": {
    "colab": {},
    "colab_type": "code",
    "id": "isfTWP4NYudk"
   },
   "outputs": [
    {
     "data": {
      "text/plain": [
       "Reusing TensorBoard on port 6007 (pid 6207), started 0:17:36 ago. (Use '!kill 6207' to kill it.)"
      ]
     },
     "metadata": {},
     "output_type": "display_data"
    },
    {
     "data": {
      "text/html": [
       "\n",
       "      <iframe id=\"tensorboard-frame-60b79a23e3bf1443\" width=\"100%\" height=\"800\" frameborder=\"0\">\n",
       "      </iframe>\n",
       "      <script>\n",
       "        (function() {\n",
       "          const frame = document.getElementById(\"tensorboard-frame-60b79a23e3bf1443\");\n",
       "          const url = new URL(\"/\", window.location);\n",
       "          url.port = 6007;\n",
       "          frame.src = url;\n",
       "        })();\n",
       "      </script>\n",
       "  "
      ],
      "text/plain": [
       "<IPython.core.display.HTML object>"
      ]
     },
     "metadata": {},
     "output_type": "display_data"
    }
   ],
   "source": [
    "%tensorboard --logdir log_dir"
   ]
  },
  {
   "cell_type": "code",
   "execution_count": null,
   "metadata": {},
   "outputs": [],
   "source": []
  }
 ],
 "metadata": {
  "colab": {
   "collapsed_sections": [],
   "include_colab_link": true,
   "name": "ExploringCallbacks.ipynb",
   "provenance": []
  },
  "kernelspec": {
   "display_name": "Python 3",
   "language": "python",
   "name": "python3"
  },
  "language_info": {
   "codemirror_mode": {
    "name": "ipython",
    "version": 3
   },
   "file_extension": ".py",
   "mimetype": "text/x-python",
   "name": "python",
   "nbconvert_exporter": "python",
   "pygments_lexer": "ipython3",
   "version": "3.7.6"
  }
 },
 "nbformat": 4,
 "nbformat_minor": 4
}
